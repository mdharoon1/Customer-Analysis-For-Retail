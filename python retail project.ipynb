{
 "cells": [
  {
   "cell_type": "markdown",
   "id": "18b7605a",
   "metadata": {},
   "source": [
    "# Customer Analysis For Retail"
   ]
  },
  {
   "cell_type": "markdown",
   "id": "096a2aaa",
   "metadata": {},
   "source": [
    "Business Problem"
   ]
  },
  {
   "cell_type": "markdown",
   "id": "14f9b364",
   "metadata": {},
   "source": [
    "A Retail store is required to analyze the day-to-day transactions and keep a track of its customers spread across various locations along with their purchases/returns across various categories."
   ]
  },
  {
   "cell_type": "markdown",
   "id": "bcdd4b6b",
   "metadata": {},
   "source": [
    "Create a report and display the below calculated metrics, reports and inferences."
   ]
  },
  {
   "cell_type": "markdown",
   "id": "e8c08f82",
   "metadata": {},
   "source": [
    "# Import necessary libraries"
   ]
  },
  {
   "cell_type": "code",
   "execution_count": 1,
   "id": "983bce7a",
   "metadata": {},
   "outputs": [],
   "source": [
    "import pandas as pd\n",
    "import numpy as np\n",
    "import matplotlib.pyplot as plt\n",
    "%matplotlib inline\n",
    "import seaborn as sns"
   ]
  },
  {
   "cell_type": "markdown",
   "id": "0d03e3c2",
   "metadata": {},
   "source": [
    "Import the data set"
   ]
  },
  {
   "cell_type": "code",
   "execution_count": 2,
   "id": "731ed9b0",
   "metadata": {},
   "outputs": [],
   "source": [
    "customer = pd.read_csv(\"Customer.csv\")\n",
    "prod_info = pd.read_csv(\"prod_cat_info.csv\")\n",
    "transaction = pd.read_csv(\"Transactions.csv\")"
   ]
  },
  {
   "cell_type": "markdown",
   "id": "2c827fa1",
   "metadata": {},
   "source": [
    "# EDA  Analysis"
   ]
  },
  {
   "cell_type": "code",
   "execution_count": 3,
   "id": "22f6c5e8",
   "metadata": {},
   "outputs": [
    {
     "data": {
      "text/plain": [
       "(5647, 4)"
      ]
     },
     "execution_count": 3,
     "metadata": {},
     "output_type": "execute_result"
    }
   ],
   "source": [
    "customer.shape"
   ]
  },
  {
   "cell_type": "code",
   "execution_count": 4,
   "id": "72099a70",
   "metadata": {},
   "outputs": [
    {
     "data": {
      "text/plain": [
       "(23, 4)"
      ]
     },
     "execution_count": 4,
     "metadata": {},
     "output_type": "execute_result"
    }
   ],
   "source": [
    "prod_info.shape"
   ]
  },
  {
   "cell_type": "code",
   "execution_count": 5,
   "id": "0d2b2cf4",
   "metadata": {},
   "outputs": [
    {
     "data": {
      "text/plain": [
       "(23053, 10)"
      ]
     },
     "execution_count": 5,
     "metadata": {},
     "output_type": "execute_result"
    }
   ],
   "source": [
    "transaction.shape"
   ]
  },
  {
   "cell_type": "code",
   "execution_count": 6,
   "id": "a21f1832",
   "metadata": {},
   "outputs": [
    {
     "data": {
      "text/html": [
       "<div>\n",
       "<style scoped>\n",
       "    .dataframe tbody tr th:only-of-type {\n",
       "        vertical-align: middle;\n",
       "    }\n",
       "\n",
       "    .dataframe tbody tr th {\n",
       "        vertical-align: top;\n",
       "    }\n",
       "\n",
       "    .dataframe thead th {\n",
       "        text-align: right;\n",
       "    }\n",
       "</style>\n",
       "<table border=\"1\" class=\"dataframe\">\n",
       "  <thead>\n",
       "    <tr style=\"text-align: right;\">\n",
       "      <th></th>\n",
       "      <th>customer_Id</th>\n",
       "      <th>DOB</th>\n",
       "      <th>Gender</th>\n",
       "      <th>city_code</th>\n",
       "    </tr>\n",
       "  </thead>\n",
       "  <tbody>\n",
       "    <tr>\n",
       "      <th>0</th>\n",
       "      <td>268408</td>\n",
       "      <td>02-01-1970</td>\n",
       "      <td>M</td>\n",
       "      <td>4.0</td>\n",
       "    </tr>\n",
       "    <tr>\n",
       "      <th>1</th>\n",
       "      <td>269696</td>\n",
       "      <td>07-01-1970</td>\n",
       "      <td>F</td>\n",
       "      <td>8.0</td>\n",
       "    </tr>\n",
       "    <tr>\n",
       "      <th>2</th>\n",
       "      <td>268159</td>\n",
       "      <td>08-01-1970</td>\n",
       "      <td>F</td>\n",
       "      <td>8.0</td>\n",
       "    </tr>\n",
       "    <tr>\n",
       "      <th>3</th>\n",
       "      <td>270181</td>\n",
       "      <td>10-01-1970</td>\n",
       "      <td>F</td>\n",
       "      <td>2.0</td>\n",
       "    </tr>\n",
       "    <tr>\n",
       "      <th>4</th>\n",
       "      <td>268073</td>\n",
       "      <td>11-01-1970</td>\n",
       "      <td>M</td>\n",
       "      <td>1.0</td>\n",
       "    </tr>\n",
       "  </tbody>\n",
       "</table>\n",
       "</div>"
      ],
      "text/plain": [
       "   customer_Id         DOB Gender  city_code\n",
       "0       268408  02-01-1970      M        4.0\n",
       "1       269696  07-01-1970      F        8.0\n",
       "2       268159  08-01-1970      F        8.0\n",
       "3       270181  10-01-1970      F        2.0\n",
       "4       268073  11-01-1970      M        1.0"
      ]
     },
     "execution_count": 6,
     "metadata": {},
     "output_type": "execute_result"
    }
   ],
   "source": [
    "customer.head()"
   ]
  },
  {
   "cell_type": "code",
   "execution_count": 7,
   "id": "5c355629",
   "metadata": {},
   "outputs": [
    {
     "data": {
      "text/html": [
       "<div>\n",
       "<style scoped>\n",
       "    .dataframe tbody tr th:only-of-type {\n",
       "        vertical-align: middle;\n",
       "    }\n",
       "\n",
       "    .dataframe tbody tr th {\n",
       "        vertical-align: top;\n",
       "    }\n",
       "\n",
       "    .dataframe thead th {\n",
       "        text-align: right;\n",
       "    }\n",
       "</style>\n",
       "<table border=\"1\" class=\"dataframe\">\n",
       "  <thead>\n",
       "    <tr style=\"text-align: right;\">\n",
       "      <th></th>\n",
       "      <th>prod_cat_code</th>\n",
       "      <th>prod_cat</th>\n",
       "      <th>prod_sub_cat_code</th>\n",
       "      <th>prod_subcat</th>\n",
       "    </tr>\n",
       "  </thead>\n",
       "  <tbody>\n",
       "    <tr>\n",
       "      <th>0</th>\n",
       "      <td>1</td>\n",
       "      <td>Clothing</td>\n",
       "      <td>4</td>\n",
       "      <td>Mens</td>\n",
       "    </tr>\n",
       "    <tr>\n",
       "      <th>1</th>\n",
       "      <td>1</td>\n",
       "      <td>Clothing</td>\n",
       "      <td>1</td>\n",
       "      <td>Women</td>\n",
       "    </tr>\n",
       "    <tr>\n",
       "      <th>2</th>\n",
       "      <td>1</td>\n",
       "      <td>Clothing</td>\n",
       "      <td>3</td>\n",
       "      <td>Kids</td>\n",
       "    </tr>\n",
       "    <tr>\n",
       "      <th>3</th>\n",
       "      <td>2</td>\n",
       "      <td>Footwear</td>\n",
       "      <td>1</td>\n",
       "      <td>Mens</td>\n",
       "    </tr>\n",
       "    <tr>\n",
       "      <th>4</th>\n",
       "      <td>2</td>\n",
       "      <td>Footwear</td>\n",
       "      <td>3</td>\n",
       "      <td>Women</td>\n",
       "    </tr>\n",
       "  </tbody>\n",
       "</table>\n",
       "</div>"
      ],
      "text/plain": [
       "   prod_cat_code  prod_cat  prod_sub_cat_code prod_subcat\n",
       "0              1  Clothing                  4        Mens\n",
       "1              1  Clothing                  1       Women\n",
       "2              1  Clothing                  3        Kids\n",
       "3              2  Footwear                  1        Mens\n",
       "4              2  Footwear                  3       Women"
      ]
     },
     "execution_count": 7,
     "metadata": {},
     "output_type": "execute_result"
    }
   ],
   "source": [
    "prod_info.head()"
   ]
  },
  {
   "cell_type": "code",
   "execution_count": 8,
   "id": "249df9c0",
   "metadata": {},
   "outputs": [
    {
     "data": {
      "text/html": [
       "<div>\n",
       "<style scoped>\n",
       "    .dataframe tbody tr th:only-of-type {\n",
       "        vertical-align: middle;\n",
       "    }\n",
       "\n",
       "    .dataframe tbody tr th {\n",
       "        vertical-align: top;\n",
       "    }\n",
       "\n",
       "    .dataframe thead th {\n",
       "        text-align: right;\n",
       "    }\n",
       "</style>\n",
       "<table border=\"1\" class=\"dataframe\">\n",
       "  <thead>\n",
       "    <tr style=\"text-align: right;\">\n",
       "      <th></th>\n",
       "      <th>transaction_id</th>\n",
       "      <th>cust_id</th>\n",
       "      <th>tran_date</th>\n",
       "      <th>prod_subcat_code</th>\n",
       "      <th>prod_cat_code</th>\n",
       "      <th>Qty</th>\n",
       "      <th>Rate</th>\n",
       "      <th>Tax</th>\n",
       "      <th>total_amt</th>\n",
       "      <th>Store_type</th>\n",
       "    </tr>\n",
       "  </thead>\n",
       "  <tbody>\n",
       "    <tr>\n",
       "      <th>0</th>\n",
       "      <td>80712190438</td>\n",
       "      <td>270351</td>\n",
       "      <td>28-02-2014</td>\n",
       "      <td>1</td>\n",
       "      <td>1</td>\n",
       "      <td>-5</td>\n",
       "      <td>-772</td>\n",
       "      <td>405.300</td>\n",
       "      <td>-4265.300</td>\n",
       "      <td>e-Shop</td>\n",
       "    </tr>\n",
       "    <tr>\n",
       "      <th>1</th>\n",
       "      <td>29258453508</td>\n",
       "      <td>270384</td>\n",
       "      <td>27-02-2014</td>\n",
       "      <td>5</td>\n",
       "      <td>3</td>\n",
       "      <td>-5</td>\n",
       "      <td>-1497</td>\n",
       "      <td>785.925</td>\n",
       "      <td>-8270.925</td>\n",
       "      <td>e-Shop</td>\n",
       "    </tr>\n",
       "    <tr>\n",
       "      <th>2</th>\n",
       "      <td>51750724947</td>\n",
       "      <td>273420</td>\n",
       "      <td>24-02-2014</td>\n",
       "      <td>6</td>\n",
       "      <td>5</td>\n",
       "      <td>-2</td>\n",
       "      <td>-791</td>\n",
       "      <td>166.110</td>\n",
       "      <td>-1748.110</td>\n",
       "      <td>TeleShop</td>\n",
       "    </tr>\n",
       "    <tr>\n",
       "      <th>3</th>\n",
       "      <td>93274880719</td>\n",
       "      <td>271509</td>\n",
       "      <td>24-02-2014</td>\n",
       "      <td>11</td>\n",
       "      <td>6</td>\n",
       "      <td>-3</td>\n",
       "      <td>-1363</td>\n",
       "      <td>429.345</td>\n",
       "      <td>-4518.345</td>\n",
       "      <td>e-Shop</td>\n",
       "    </tr>\n",
       "    <tr>\n",
       "      <th>4</th>\n",
       "      <td>51750724947</td>\n",
       "      <td>273420</td>\n",
       "      <td>23-02-2014</td>\n",
       "      <td>6</td>\n",
       "      <td>5</td>\n",
       "      <td>-2</td>\n",
       "      <td>-791</td>\n",
       "      <td>166.110</td>\n",
       "      <td>-1748.110</td>\n",
       "      <td>TeleShop</td>\n",
       "    </tr>\n",
       "  </tbody>\n",
       "</table>\n",
       "</div>"
      ],
      "text/plain": [
       "   transaction_id  cust_id   tran_date  prod_subcat_code  prod_cat_code  Qty  \\\n",
       "0     80712190438   270351  28-02-2014                 1              1   -5   \n",
       "1     29258453508   270384  27-02-2014                 5              3   -5   \n",
       "2     51750724947   273420  24-02-2014                 6              5   -2   \n",
       "3     93274880719   271509  24-02-2014                11              6   -3   \n",
       "4     51750724947   273420  23-02-2014                 6              5   -2   \n",
       "\n",
       "   Rate      Tax  total_amt Store_type  \n",
       "0  -772  405.300  -4265.300     e-Shop  \n",
       "1 -1497  785.925  -8270.925     e-Shop  \n",
       "2  -791  166.110  -1748.110   TeleShop  \n",
       "3 -1363  429.345  -4518.345     e-Shop  \n",
       "4  -791  166.110  -1748.110   TeleShop  "
      ]
     },
     "execution_count": 8,
     "metadata": {},
     "output_type": "execute_result"
    }
   ],
   "source": [
    "transaction.head()"
   ]
  },
  {
   "cell_type": "code",
   "execution_count": 9,
   "id": "5f4c9f38",
   "metadata": {},
   "outputs": [],
   "source": [
    "# renaming \"prod_sub_cat_code\" column in 'prod_info' table to make it similar to 'transaction' table\n",
    "# to merge the both the tables easily\n",
    "prod_info.rename(columns={\"prod_sub_cat_code\":\"prod_subcat_code\"},inplace=True)"
   ]
  },
  {
   "cell_type": "code",
   "execution_count": 10,
   "id": "06624ba3",
   "metadata": {},
   "outputs": [
    {
     "data": {
      "text/html": [
       "<div>\n",
       "<style scoped>\n",
       "    .dataframe tbody tr th:only-of-type {\n",
       "        vertical-align: middle;\n",
       "    }\n",
       "\n",
       "    .dataframe tbody tr th {\n",
       "        vertical-align: top;\n",
       "    }\n",
       "\n",
       "    .dataframe thead th {\n",
       "        text-align: right;\n",
       "    }\n",
       "</style>\n",
       "<table border=\"1\" class=\"dataframe\">\n",
       "  <thead>\n",
       "    <tr style=\"text-align: right;\">\n",
       "      <th></th>\n",
       "      <th>prod_cat_code</th>\n",
       "      <th>prod_cat</th>\n",
       "      <th>prod_subcat_code</th>\n",
       "      <th>prod_subcat</th>\n",
       "    </tr>\n",
       "  </thead>\n",
       "  <tbody>\n",
       "    <tr>\n",
       "      <th>0</th>\n",
       "      <td>1</td>\n",
       "      <td>Clothing</td>\n",
       "      <td>4</td>\n",
       "      <td>Mens</td>\n",
       "    </tr>\n",
       "    <tr>\n",
       "      <th>1</th>\n",
       "      <td>1</td>\n",
       "      <td>Clothing</td>\n",
       "      <td>1</td>\n",
       "      <td>Women</td>\n",
       "    </tr>\n",
       "    <tr>\n",
       "      <th>2</th>\n",
       "      <td>1</td>\n",
       "      <td>Clothing</td>\n",
       "      <td>3</td>\n",
       "      <td>Kids</td>\n",
       "    </tr>\n",
       "    <tr>\n",
       "      <th>3</th>\n",
       "      <td>2</td>\n",
       "      <td>Footwear</td>\n",
       "      <td>1</td>\n",
       "      <td>Mens</td>\n",
       "    </tr>\n",
       "    <tr>\n",
       "      <th>4</th>\n",
       "      <td>2</td>\n",
       "      <td>Footwear</td>\n",
       "      <td>3</td>\n",
       "      <td>Women</td>\n",
       "    </tr>\n",
       "  </tbody>\n",
       "</table>\n",
       "</div>"
      ],
      "text/plain": [
       "   prod_cat_code  prod_cat  prod_subcat_code prod_subcat\n",
       "0              1  Clothing                 4        Mens\n",
       "1              1  Clothing                 1       Women\n",
       "2              1  Clothing                 3        Kids\n",
       "3              2  Footwear                 1        Mens\n",
       "4              2  Footwear                 3       Women"
      ]
     },
     "execution_count": 10,
     "metadata": {},
     "output_type": "execute_result"
    }
   ],
   "source": [
    "prod_info.head()"
   ]
  },
  {
   "cell_type": "markdown",
   "id": "bb732800",
   "metadata": {},
   "source": [
    "# 1. Merge the datasets Customers, Product Hierarchy and Transactions as Customer_Final"
   ]
  },
  {
   "cell_type": "code",
   "execution_count": 11,
   "id": "829d33bc",
   "metadata": {},
   "outputs": [],
   "source": [
    "# merge transaction and prod_info table and create a new table \"prod_concat\"\n",
    "prod_concat = pd.merge(left=transaction, right=prod_info,on=[\"prod_cat_code\",\"prod_subcat_code\"],how=\"left\")"
   ]
  },
  {
   "cell_type": "code",
   "execution_count": 12,
   "id": "92e96f19",
   "metadata": {},
   "outputs": [
    {
     "data": {
      "text/html": [
       "<div>\n",
       "<style scoped>\n",
       "    .dataframe tbody tr th:only-of-type {\n",
       "        vertical-align: middle;\n",
       "    }\n",
       "\n",
       "    .dataframe tbody tr th {\n",
       "        vertical-align: top;\n",
       "    }\n",
       "\n",
       "    .dataframe thead th {\n",
       "        text-align: right;\n",
       "    }\n",
       "</style>\n",
       "<table border=\"1\" class=\"dataframe\">\n",
       "  <thead>\n",
       "    <tr style=\"text-align: right;\">\n",
       "      <th></th>\n",
       "      <th>transaction_id</th>\n",
       "      <th>cust_id</th>\n",
       "      <th>tran_date</th>\n",
       "      <th>prod_subcat_code</th>\n",
       "      <th>prod_cat_code</th>\n",
       "      <th>Qty</th>\n",
       "      <th>Rate</th>\n",
       "      <th>Tax</th>\n",
       "      <th>total_amt</th>\n",
       "      <th>Store_type</th>\n",
       "      <th>prod_cat</th>\n",
       "      <th>prod_subcat</th>\n",
       "    </tr>\n",
       "  </thead>\n",
       "  <tbody>\n",
       "    <tr>\n",
       "      <th>0</th>\n",
       "      <td>80712190438</td>\n",
       "      <td>270351</td>\n",
       "      <td>28-02-2014</td>\n",
       "      <td>1</td>\n",
       "      <td>1</td>\n",
       "      <td>-5</td>\n",
       "      <td>-772</td>\n",
       "      <td>405.300</td>\n",
       "      <td>-4265.300</td>\n",
       "      <td>e-Shop</td>\n",
       "      <td>Clothing</td>\n",
       "      <td>Women</td>\n",
       "    </tr>\n",
       "    <tr>\n",
       "      <th>1</th>\n",
       "      <td>29258453508</td>\n",
       "      <td>270384</td>\n",
       "      <td>27-02-2014</td>\n",
       "      <td>5</td>\n",
       "      <td>3</td>\n",
       "      <td>-5</td>\n",
       "      <td>-1497</td>\n",
       "      <td>785.925</td>\n",
       "      <td>-8270.925</td>\n",
       "      <td>e-Shop</td>\n",
       "      <td>Electronics</td>\n",
       "      <td>Computers</td>\n",
       "    </tr>\n",
       "    <tr>\n",
       "      <th>2</th>\n",
       "      <td>51750724947</td>\n",
       "      <td>273420</td>\n",
       "      <td>24-02-2014</td>\n",
       "      <td>6</td>\n",
       "      <td>5</td>\n",
       "      <td>-2</td>\n",
       "      <td>-791</td>\n",
       "      <td>166.110</td>\n",
       "      <td>-1748.110</td>\n",
       "      <td>TeleShop</td>\n",
       "      <td>Books</td>\n",
       "      <td>DIY</td>\n",
       "    </tr>\n",
       "    <tr>\n",
       "      <th>3</th>\n",
       "      <td>93274880719</td>\n",
       "      <td>271509</td>\n",
       "      <td>24-02-2014</td>\n",
       "      <td>11</td>\n",
       "      <td>6</td>\n",
       "      <td>-3</td>\n",
       "      <td>-1363</td>\n",
       "      <td>429.345</td>\n",
       "      <td>-4518.345</td>\n",
       "      <td>e-Shop</td>\n",
       "      <td>Home and kitchen</td>\n",
       "      <td>Bath</td>\n",
       "    </tr>\n",
       "    <tr>\n",
       "      <th>4</th>\n",
       "      <td>51750724947</td>\n",
       "      <td>273420</td>\n",
       "      <td>23-02-2014</td>\n",
       "      <td>6</td>\n",
       "      <td>5</td>\n",
       "      <td>-2</td>\n",
       "      <td>-791</td>\n",
       "      <td>166.110</td>\n",
       "      <td>-1748.110</td>\n",
       "      <td>TeleShop</td>\n",
       "      <td>Books</td>\n",
       "      <td>DIY</td>\n",
       "    </tr>\n",
       "    <tr>\n",
       "      <th>...</th>\n",
       "      <td>...</td>\n",
       "      <td>...</td>\n",
       "      <td>...</td>\n",
       "      <td>...</td>\n",
       "      <td>...</td>\n",
       "      <td>...</td>\n",
       "      <td>...</td>\n",
       "      <td>...</td>\n",
       "      <td>...</td>\n",
       "      <td>...</td>\n",
       "      <td>...</td>\n",
       "      <td>...</td>\n",
       "    </tr>\n",
       "    <tr>\n",
       "      <th>23048</th>\n",
       "      <td>94340757522</td>\n",
       "      <td>274550</td>\n",
       "      <td>25-01-2011</td>\n",
       "      <td>12</td>\n",
       "      <td>5</td>\n",
       "      <td>1</td>\n",
       "      <td>1264</td>\n",
       "      <td>132.720</td>\n",
       "      <td>1396.720</td>\n",
       "      <td>e-Shop</td>\n",
       "      <td>Books</td>\n",
       "      <td>Academic</td>\n",
       "    </tr>\n",
       "    <tr>\n",
       "      <th>23049</th>\n",
       "      <td>89780862956</td>\n",
       "      <td>270022</td>\n",
       "      <td>25-01-2011</td>\n",
       "      <td>4</td>\n",
       "      <td>1</td>\n",
       "      <td>1</td>\n",
       "      <td>677</td>\n",
       "      <td>71.085</td>\n",
       "      <td>748.085</td>\n",
       "      <td>e-Shop</td>\n",
       "      <td>Clothing</td>\n",
       "      <td>Mens</td>\n",
       "    </tr>\n",
       "    <tr>\n",
       "      <th>23050</th>\n",
       "      <td>85115299378</td>\n",
       "      <td>271020</td>\n",
       "      <td>25-01-2011</td>\n",
       "      <td>2</td>\n",
       "      <td>6</td>\n",
       "      <td>4</td>\n",
       "      <td>1052</td>\n",
       "      <td>441.840</td>\n",
       "      <td>4649.840</td>\n",
       "      <td>MBR</td>\n",
       "      <td>Home and kitchen</td>\n",
       "      <td>Furnishing</td>\n",
       "    </tr>\n",
       "    <tr>\n",
       "      <th>23051</th>\n",
       "      <td>72870271171</td>\n",
       "      <td>270911</td>\n",
       "      <td>25-01-2011</td>\n",
       "      <td>11</td>\n",
       "      <td>5</td>\n",
       "      <td>3</td>\n",
       "      <td>1142</td>\n",
       "      <td>359.730</td>\n",
       "      <td>3785.730</td>\n",
       "      <td>TeleShop</td>\n",
       "      <td>Books</td>\n",
       "      <td>Children</td>\n",
       "    </tr>\n",
       "    <tr>\n",
       "      <th>23052</th>\n",
       "      <td>77960931771</td>\n",
       "      <td>271961</td>\n",
       "      <td>25-01-2011</td>\n",
       "      <td>11</td>\n",
       "      <td>5</td>\n",
       "      <td>1</td>\n",
       "      <td>447</td>\n",
       "      <td>46.935</td>\n",
       "      <td>493.935</td>\n",
       "      <td>TeleShop</td>\n",
       "      <td>Books</td>\n",
       "      <td>Children</td>\n",
       "    </tr>\n",
       "  </tbody>\n",
       "</table>\n",
       "<p>23053 rows × 12 columns</p>\n",
       "</div>"
      ],
      "text/plain": [
       "       transaction_id  cust_id   tran_date  prod_subcat_code  prod_cat_code  \\\n",
       "0         80712190438   270351  28-02-2014                 1              1   \n",
       "1         29258453508   270384  27-02-2014                 5              3   \n",
       "2         51750724947   273420  24-02-2014                 6              5   \n",
       "3         93274880719   271509  24-02-2014                11              6   \n",
       "4         51750724947   273420  23-02-2014                 6              5   \n",
       "...               ...      ...         ...               ...            ...   \n",
       "23048     94340757522   274550  25-01-2011                12              5   \n",
       "23049     89780862956   270022  25-01-2011                 4              1   \n",
       "23050     85115299378   271020  25-01-2011                 2              6   \n",
       "23051     72870271171   270911  25-01-2011                11              5   \n",
       "23052     77960931771   271961  25-01-2011                11              5   \n",
       "\n",
       "       Qty  Rate      Tax  total_amt Store_type          prod_cat prod_subcat  \n",
       "0       -5  -772  405.300  -4265.300     e-Shop          Clothing       Women  \n",
       "1       -5 -1497  785.925  -8270.925     e-Shop       Electronics   Computers  \n",
       "2       -2  -791  166.110  -1748.110   TeleShop             Books         DIY  \n",
       "3       -3 -1363  429.345  -4518.345     e-Shop  Home and kitchen        Bath  \n",
       "4       -2  -791  166.110  -1748.110   TeleShop             Books         DIY  \n",
       "...    ...   ...      ...        ...        ...               ...         ...  \n",
       "23048    1  1264  132.720   1396.720     e-Shop             Books    Academic  \n",
       "23049    1   677   71.085    748.085     e-Shop          Clothing        Mens  \n",
       "23050    4  1052  441.840   4649.840        MBR  Home and kitchen  Furnishing  \n",
       "23051    3  1142  359.730   3785.730   TeleShop             Books    Children  \n",
       "23052    1   447   46.935    493.935   TeleShop             Books    Children  \n",
       "\n",
       "[23053 rows x 12 columns]"
      ]
     },
     "execution_count": 12,
     "metadata": {},
     "output_type": "execute_result"
    }
   ],
   "source": [
    "prod_concat"
   ]
  },
  {
   "cell_type": "code",
   "execution_count": 13,
   "id": "b569a402",
   "metadata": {},
   "outputs": [],
   "source": [
    "#merge \"prod_concat\" and \"customer\" table and create the final table \"customer_final\"\n",
    "customer_final = pd.merge(left=prod_concat, right=customer,right_on=\"customer_Id\", left_on=\"cust_id\", how=\"left\")"
   ]
  },
  {
   "cell_type": "code",
   "execution_count": 14,
   "id": "a639d776",
   "metadata": {},
   "outputs": [
    {
     "data": {
      "text/html": [
       "<div>\n",
       "<style scoped>\n",
       "    .dataframe tbody tr th:only-of-type {\n",
       "        vertical-align: middle;\n",
       "    }\n",
       "\n",
       "    .dataframe tbody tr th {\n",
       "        vertical-align: top;\n",
       "    }\n",
       "\n",
       "    .dataframe thead th {\n",
       "        text-align: right;\n",
       "    }\n",
       "</style>\n",
       "<table border=\"1\" class=\"dataframe\">\n",
       "  <thead>\n",
       "    <tr style=\"text-align: right;\">\n",
       "      <th></th>\n",
       "      <th>transaction_id</th>\n",
       "      <th>cust_id</th>\n",
       "      <th>tran_date</th>\n",
       "      <th>prod_subcat_code</th>\n",
       "      <th>prod_cat_code</th>\n",
       "      <th>Qty</th>\n",
       "      <th>Rate</th>\n",
       "      <th>Tax</th>\n",
       "      <th>total_amt</th>\n",
       "      <th>Store_type</th>\n",
       "      <th>prod_cat</th>\n",
       "      <th>prod_subcat</th>\n",
       "      <th>customer_Id</th>\n",
       "      <th>DOB</th>\n",
       "      <th>Gender</th>\n",
       "      <th>city_code</th>\n",
       "    </tr>\n",
       "  </thead>\n",
       "  <tbody>\n",
       "    <tr>\n",
       "      <th>0</th>\n",
       "      <td>80712190438</td>\n",
       "      <td>270351</td>\n",
       "      <td>28-02-2014</td>\n",
       "      <td>1</td>\n",
       "      <td>1</td>\n",
       "      <td>-5</td>\n",
       "      <td>-772</td>\n",
       "      <td>405.300</td>\n",
       "      <td>-4265.300</td>\n",
       "      <td>e-Shop</td>\n",
       "      <td>Clothing</td>\n",
       "      <td>Women</td>\n",
       "      <td>270351</td>\n",
       "      <td>26-09-1981</td>\n",
       "      <td>M</td>\n",
       "      <td>5.0</td>\n",
       "    </tr>\n",
       "    <tr>\n",
       "      <th>1</th>\n",
       "      <td>29258453508</td>\n",
       "      <td>270384</td>\n",
       "      <td>27-02-2014</td>\n",
       "      <td>5</td>\n",
       "      <td>3</td>\n",
       "      <td>-5</td>\n",
       "      <td>-1497</td>\n",
       "      <td>785.925</td>\n",
       "      <td>-8270.925</td>\n",
       "      <td>e-Shop</td>\n",
       "      <td>Electronics</td>\n",
       "      <td>Computers</td>\n",
       "      <td>270384</td>\n",
       "      <td>11-05-1973</td>\n",
       "      <td>F</td>\n",
       "      <td>8.0</td>\n",
       "    </tr>\n",
       "    <tr>\n",
       "      <th>2</th>\n",
       "      <td>51750724947</td>\n",
       "      <td>273420</td>\n",
       "      <td>24-02-2014</td>\n",
       "      <td>6</td>\n",
       "      <td>5</td>\n",
       "      <td>-2</td>\n",
       "      <td>-791</td>\n",
       "      <td>166.110</td>\n",
       "      <td>-1748.110</td>\n",
       "      <td>TeleShop</td>\n",
       "      <td>Books</td>\n",
       "      <td>DIY</td>\n",
       "      <td>273420</td>\n",
       "      <td>27-07-1992</td>\n",
       "      <td>M</td>\n",
       "      <td>8.0</td>\n",
       "    </tr>\n",
       "    <tr>\n",
       "      <th>3</th>\n",
       "      <td>93274880719</td>\n",
       "      <td>271509</td>\n",
       "      <td>24-02-2014</td>\n",
       "      <td>11</td>\n",
       "      <td>6</td>\n",
       "      <td>-3</td>\n",
       "      <td>-1363</td>\n",
       "      <td>429.345</td>\n",
       "      <td>-4518.345</td>\n",
       "      <td>e-Shop</td>\n",
       "      <td>Home and kitchen</td>\n",
       "      <td>Bath</td>\n",
       "      <td>271509</td>\n",
       "      <td>08-06-1981</td>\n",
       "      <td>M</td>\n",
       "      <td>3.0</td>\n",
       "    </tr>\n",
       "    <tr>\n",
       "      <th>4</th>\n",
       "      <td>51750724947</td>\n",
       "      <td>273420</td>\n",
       "      <td>23-02-2014</td>\n",
       "      <td>6</td>\n",
       "      <td>5</td>\n",
       "      <td>-2</td>\n",
       "      <td>-791</td>\n",
       "      <td>166.110</td>\n",
       "      <td>-1748.110</td>\n",
       "      <td>TeleShop</td>\n",
       "      <td>Books</td>\n",
       "      <td>DIY</td>\n",
       "      <td>273420</td>\n",
       "      <td>27-07-1992</td>\n",
       "      <td>M</td>\n",
       "      <td>8.0</td>\n",
       "    </tr>\n",
       "  </tbody>\n",
       "</table>\n",
       "</div>"
      ],
      "text/plain": [
       "   transaction_id  cust_id   tran_date  prod_subcat_code  prod_cat_code  Qty  \\\n",
       "0     80712190438   270351  28-02-2014                 1              1   -5   \n",
       "1     29258453508   270384  27-02-2014                 5              3   -5   \n",
       "2     51750724947   273420  24-02-2014                 6              5   -2   \n",
       "3     93274880719   271509  24-02-2014                11              6   -3   \n",
       "4     51750724947   273420  23-02-2014                 6              5   -2   \n",
       "\n",
       "   Rate      Tax  total_amt Store_type          prod_cat prod_subcat  \\\n",
       "0  -772  405.300  -4265.300     e-Shop          Clothing       Women   \n",
       "1 -1497  785.925  -8270.925     e-Shop       Electronics   Computers   \n",
       "2  -791  166.110  -1748.110   TeleShop             Books         DIY   \n",
       "3 -1363  429.345  -4518.345     e-Shop  Home and kitchen        Bath   \n",
       "4  -791  166.110  -1748.110   TeleShop             Books         DIY   \n",
       "\n",
       "   customer_Id         DOB Gender  city_code  \n",
       "0       270351  26-09-1981      M        5.0  \n",
       "1       270384  11-05-1973      F        8.0  \n",
       "2       273420  27-07-1992      M        8.0  \n",
       "3       271509  08-06-1981      M        3.0  \n",
       "4       273420  27-07-1992      M        8.0  "
      ]
     },
     "execution_count": 14,
     "metadata": {},
     "output_type": "execute_result"
    }
   ],
   "source": [
    "customer_final.head()"
   ]
  },
  {
   "cell_type": "code",
   "execution_count": 15,
   "id": "2b23874f",
   "metadata": {},
   "outputs": [
    {
     "data": {
      "text/plain": [
       "(23053, 16)"
      ]
     },
     "execution_count": 15,
     "metadata": {},
     "output_type": "execute_result"
    }
   ],
   "source": [
    "customer_final.shape"
   ]
  },
  {
   "cell_type": "code",
   "execution_count": 16,
   "id": "ddcfccad",
   "metadata": {},
   "outputs": [
    {
     "data": {
      "text/plain": [
       "(23053, 10)"
      ]
     },
     "execution_count": 16,
     "metadata": {},
     "output_type": "execute_result"
    }
   ],
   "source": [
    "transaction.shape"
   ]
  },
  {
   "cell_type": "markdown",
   "id": "d122cf6c",
   "metadata": {},
   "source": [
    "Rows of both the 'customer_final' and 'transaction' table are same. \n",
    "<br>That means all the transactions done at the Retail Store are present in the final table "
   ]
  },
  {
   "cell_type": "code",
   "execution_count": 17,
   "id": "f8830412",
   "metadata": {},
   "outputs": [
    {
     "data": {
      "text/plain": [
       "transaction_id        int64\n",
       "cust_id               int64\n",
       "tran_date            object\n",
       "prod_subcat_code      int64\n",
       "prod_cat_code         int64\n",
       "Qty                   int64\n",
       "Rate                  int64\n",
       "Tax                 float64\n",
       "total_amt           float64\n",
       "Store_type           object\n",
       "prod_cat             object\n",
       "prod_subcat          object\n",
       "customer_Id           int64\n",
       "DOB                  object\n",
       "Gender               object\n",
       "city_code           float64\n",
       "dtype: object"
      ]
     },
     "execution_count": 17,
     "metadata": {},
     "output_type": "execute_result"
    }
   ],
   "source": [
    "customer_final.dtypes"
   ]
  },
  {
   "cell_type": "code",
   "execution_count": 19,
   "id": "53dedd37",
   "metadata": {},
   "outputs": [],
   "source": [
    "# converting \"DOB\" and \"tran_date\" from object dtype to dates\n",
    "customer_final[\"DOB\"] = pd.to_datetime(customer_final[\"DOB\"], format=\"%d-%m-%Y\")\n",
    "customer_final[\"tran_date\"] = pd.to_datetime(customer_final[\"tran_date\"])"
   ]
  },
  {
   "cell_type": "code",
   "execution_count": 23,
   "id": "e230cee8",
   "metadata": {},
   "outputs": [
    {
     "data": {
      "text/plain": [
       "0   2014-02-28\n",
       "Name: tran_date, dtype: datetime64[ns]"
      ]
     },
     "execution_count": 23,
     "metadata": {},
     "output_type": "execute_result"
    }
   ],
   "source": [
    "customer_final[\"tran_date\"].head(1)"
   ]
  },
  {
   "cell_type": "code",
   "execution_count": 24,
   "id": "6466569c",
   "metadata": {},
   "outputs": [
    {
     "data": {
      "text/plain": [
       "0   1981-09-26\n",
       "Name: DOB, dtype: datetime64[ns]"
      ]
     },
     "execution_count": 24,
     "metadata": {},
     "output_type": "execute_result"
    }
   ],
   "source": [
    "customer_final['DOB'].head(1)"
   ]
  },
  {
   "cell_type": "code",
   "execution_count": 18,
   "id": "87ef9425",
   "metadata": {},
   "outputs": [
    {
     "data": {
      "text/plain": [
       "transaction_id      0\n",
       "cust_id             0\n",
       "tran_date           0\n",
       "prod_subcat_code    0\n",
       "prod_cat_code       0\n",
       "Qty                 0\n",
       "Rate                0\n",
       "Tax                 0\n",
       "total_amt           0\n",
       "Store_type          0\n",
       "prod_cat            0\n",
       "prod_subcat         0\n",
       "customer_Id         0\n",
       "DOB                 0\n",
       "Gender              9\n",
       "city_code           8\n",
       "dtype: int64"
      ]
     },
     "execution_count": 18,
     "metadata": {},
     "output_type": "execute_result"
    }
   ],
   "source": [
    "customer_final.isnull().sum()"
   ]
  },
  {
   "cell_type": "markdown",
   "id": "7e6440f3",
   "metadata": {},
   "source": [
    "# Checking for duplicate rows"
   ]
  },
  {
   "cell_type": "code",
   "execution_count": 25,
   "id": "9c571d3a",
   "metadata": {},
   "outputs": [
    {
     "data": {
      "text/plain": [
       "13"
      ]
     },
     "execution_count": 25,
     "metadata": {},
     "output_type": "execute_result"
    }
   ],
   "source": [
    "customer_final.duplicated().sum()"
   ]
  },
  {
   "cell_type": "code",
   "execution_count": 26,
   "id": "4d3b15b8",
   "metadata": {},
   "outputs": [],
   "source": [
    "# dropping duplicate rows\n",
    "customer_final.drop_duplicates(inplace=True)"
   ]
  },
  {
   "cell_type": "code",
   "execution_count": 27,
   "id": "464b16b1",
   "metadata": {},
   "outputs": [
    {
     "data": {
      "text/plain": [
       "0"
      ]
     },
     "execution_count": 27,
     "metadata": {},
     "output_type": "execute_result"
    }
   ],
   "source": [
    "customer_final.duplicated().sum()"
   ]
  },
  {
   "cell_type": "markdown",
   "id": "c02a90b7",
   "metadata": {},
   "source": [
    "# Question 2"
   ]
  },
  {
   "cell_type": "markdown",
   "id": "f7be5e19",
   "metadata": {},
   "source": [
    "(a) : Prepare a summary report for the merged data set -- Get the column names and their corresponding data types"
   ]
  },
  {
   "cell_type": "code",
   "execution_count": 28,
   "id": "634484ac",
   "metadata": {},
   "outputs": [
    {
     "name": "stdout",
     "output_type": "stream",
     "text": [
      "<class 'pandas.core.frame.DataFrame'>\n",
      "Int64Index: 23040 entries, 0 to 23052\n",
      "Data columns (total 16 columns):\n",
      " #   Column            Non-Null Count  Dtype         \n",
      "---  ------            --------------  -----         \n",
      " 0   transaction_id    23040 non-null  int64         \n",
      " 1   cust_id           23040 non-null  int64         \n",
      " 2   tran_date         23040 non-null  datetime64[ns]\n",
      " 3   prod_subcat_code  23040 non-null  int64         \n",
      " 4   prod_cat_code     23040 non-null  int64         \n",
      " 5   Qty               23040 non-null  int64         \n",
      " 6   Rate              23040 non-null  int64         \n",
      " 7   Tax               23040 non-null  float64       \n",
      " 8   total_amt         23040 non-null  float64       \n",
      " 9   Store_type        23040 non-null  object        \n",
      " 10  prod_cat          23040 non-null  object        \n",
      " 11  prod_subcat       23040 non-null  object        \n",
      " 12  customer_Id       23040 non-null  int64         \n",
      " 13  DOB               23040 non-null  datetime64[ns]\n",
      " 14  Gender            23031 non-null  object        \n",
      " 15  city_code         23032 non-null  float64       \n",
      "dtypes: datetime64[ns](2), float64(3), int64(7), object(4)\n",
      "memory usage: 3.0+ MB\n"
     ]
    }
   ],
   "source": [
    "customer_final.info()"
   ]
  },
  {
   "cell_type": "markdown",
   "id": "735e0293",
   "metadata": {},
   "source": [
    "(b) : Top/Bottom 10 observations"
   ]
  },
  {
   "cell_type": "code",
   "execution_count": 30,
   "id": "c1d446ed",
   "metadata": {},
   "outputs": [
    {
     "data": {
      "text/html": [
       "<div>\n",
       "<style scoped>\n",
       "    .dataframe tbody tr th:only-of-type {\n",
       "        vertical-align: middle;\n",
       "    }\n",
       "\n",
       "    .dataframe tbody tr th {\n",
       "        vertical-align: top;\n",
       "    }\n",
       "\n",
       "    .dataframe thead th {\n",
       "        text-align: right;\n",
       "    }\n",
       "</style>\n",
       "<table border=\"1\" class=\"dataframe\">\n",
       "  <thead>\n",
       "    <tr style=\"text-align: right;\">\n",
       "      <th></th>\n",
       "      <th>transaction_id</th>\n",
       "      <th>cust_id</th>\n",
       "      <th>tran_date</th>\n",
       "      <th>prod_subcat_code</th>\n",
       "      <th>prod_cat_code</th>\n",
       "      <th>Qty</th>\n",
       "      <th>Rate</th>\n",
       "      <th>Tax</th>\n",
       "      <th>total_amt</th>\n",
       "      <th>Store_type</th>\n",
       "      <th>prod_cat</th>\n",
       "      <th>prod_subcat</th>\n",
       "      <th>customer_Id</th>\n",
       "      <th>DOB</th>\n",
       "      <th>Gender</th>\n",
       "      <th>city_code</th>\n",
       "    </tr>\n",
       "  </thead>\n",
       "  <tbody>\n",
       "    <tr>\n",
       "      <th>0</th>\n",
       "      <td>80712190438</td>\n",
       "      <td>270351</td>\n",
       "      <td>2014-02-28</td>\n",
       "      <td>1</td>\n",
       "      <td>1</td>\n",
       "      <td>-5</td>\n",
       "      <td>-772</td>\n",
       "      <td>405.300</td>\n",
       "      <td>-4265.300</td>\n",
       "      <td>e-Shop</td>\n",
       "      <td>Clothing</td>\n",
       "      <td>Women</td>\n",
       "      <td>270351</td>\n",
       "      <td>1981-09-26</td>\n",
       "      <td>M</td>\n",
       "      <td>5.0</td>\n",
       "    </tr>\n",
       "    <tr>\n",
       "      <th>1</th>\n",
       "      <td>29258453508</td>\n",
       "      <td>270384</td>\n",
       "      <td>2014-02-27</td>\n",
       "      <td>5</td>\n",
       "      <td>3</td>\n",
       "      <td>-5</td>\n",
       "      <td>-1497</td>\n",
       "      <td>785.925</td>\n",
       "      <td>-8270.925</td>\n",
       "      <td>e-Shop</td>\n",
       "      <td>Electronics</td>\n",
       "      <td>Computers</td>\n",
       "      <td>270384</td>\n",
       "      <td>1973-05-11</td>\n",
       "      <td>F</td>\n",
       "      <td>8.0</td>\n",
       "    </tr>\n",
       "    <tr>\n",
       "      <th>2</th>\n",
       "      <td>51750724947</td>\n",
       "      <td>273420</td>\n",
       "      <td>2014-02-24</td>\n",
       "      <td>6</td>\n",
       "      <td>5</td>\n",
       "      <td>-2</td>\n",
       "      <td>-791</td>\n",
       "      <td>166.110</td>\n",
       "      <td>-1748.110</td>\n",
       "      <td>TeleShop</td>\n",
       "      <td>Books</td>\n",
       "      <td>DIY</td>\n",
       "      <td>273420</td>\n",
       "      <td>1992-07-27</td>\n",
       "      <td>M</td>\n",
       "      <td>8.0</td>\n",
       "    </tr>\n",
       "    <tr>\n",
       "      <th>3</th>\n",
       "      <td>93274880719</td>\n",
       "      <td>271509</td>\n",
       "      <td>2014-02-24</td>\n",
       "      <td>11</td>\n",
       "      <td>6</td>\n",
       "      <td>-3</td>\n",
       "      <td>-1363</td>\n",
       "      <td>429.345</td>\n",
       "      <td>-4518.345</td>\n",
       "      <td>e-Shop</td>\n",
       "      <td>Home and kitchen</td>\n",
       "      <td>Bath</td>\n",
       "      <td>271509</td>\n",
       "      <td>1981-06-08</td>\n",
       "      <td>M</td>\n",
       "      <td>3.0</td>\n",
       "    </tr>\n",
       "    <tr>\n",
       "      <th>4</th>\n",
       "      <td>51750724947</td>\n",
       "      <td>273420</td>\n",
       "      <td>2014-02-23</td>\n",
       "      <td>6</td>\n",
       "      <td>5</td>\n",
       "      <td>-2</td>\n",
       "      <td>-791</td>\n",
       "      <td>166.110</td>\n",
       "      <td>-1748.110</td>\n",
       "      <td>TeleShop</td>\n",
       "      <td>Books</td>\n",
       "      <td>DIY</td>\n",
       "      <td>273420</td>\n",
       "      <td>1992-07-27</td>\n",
       "      <td>M</td>\n",
       "      <td>8.0</td>\n",
       "    </tr>\n",
       "    <tr>\n",
       "      <th>5</th>\n",
       "      <td>97439039119</td>\n",
       "      <td>272357</td>\n",
       "      <td>2014-02-23</td>\n",
       "      <td>8</td>\n",
       "      <td>3</td>\n",
       "      <td>-2</td>\n",
       "      <td>-824</td>\n",
       "      <td>173.040</td>\n",
       "      <td>-1821.040</td>\n",
       "      <td>TeleShop</td>\n",
       "      <td>Electronics</td>\n",
       "      <td>Personal Appliances</td>\n",
       "      <td>272357</td>\n",
       "      <td>1982-10-09</td>\n",
       "      <td>F</td>\n",
       "      <td>6.0</td>\n",
       "    </tr>\n",
       "    <tr>\n",
       "      <th>6</th>\n",
       "      <td>45649838090</td>\n",
       "      <td>273667</td>\n",
       "      <td>2014-02-22</td>\n",
       "      <td>11</td>\n",
       "      <td>6</td>\n",
       "      <td>-1</td>\n",
       "      <td>-1450</td>\n",
       "      <td>152.250</td>\n",
       "      <td>-1602.250</td>\n",
       "      <td>e-Shop</td>\n",
       "      <td>Home and kitchen</td>\n",
       "      <td>Bath</td>\n",
       "      <td>273667</td>\n",
       "      <td>1981-05-29</td>\n",
       "      <td>M</td>\n",
       "      <td>9.0</td>\n",
       "    </tr>\n",
       "    <tr>\n",
       "      <th>7</th>\n",
       "      <td>22643667930</td>\n",
       "      <td>271489</td>\n",
       "      <td>2014-02-22</td>\n",
       "      <td>12</td>\n",
       "      <td>6</td>\n",
       "      <td>-1</td>\n",
       "      <td>-1225</td>\n",
       "      <td>128.625</td>\n",
       "      <td>-1353.625</td>\n",
       "      <td>TeleShop</td>\n",
       "      <td>Home and kitchen</td>\n",
       "      <td>Tools</td>\n",
       "      <td>271489</td>\n",
       "      <td>1971-04-21</td>\n",
       "      <td>M</td>\n",
       "      <td>9.0</td>\n",
       "    </tr>\n",
       "    <tr>\n",
       "      <th>8</th>\n",
       "      <td>79792372943</td>\n",
       "      <td>275108</td>\n",
       "      <td>2014-02-22</td>\n",
       "      <td>3</td>\n",
       "      <td>1</td>\n",
       "      <td>-3</td>\n",
       "      <td>-908</td>\n",
       "      <td>286.020</td>\n",
       "      <td>-3010.020</td>\n",
       "      <td>MBR</td>\n",
       "      <td>Clothing</td>\n",
       "      <td>Kids</td>\n",
       "      <td>275108</td>\n",
       "      <td>1971-11-04</td>\n",
       "      <td>F</td>\n",
       "      <td>8.0</td>\n",
       "    </tr>\n",
       "    <tr>\n",
       "      <th>9</th>\n",
       "      <td>50076728598</td>\n",
       "      <td>269014</td>\n",
       "      <td>2014-02-21</td>\n",
       "      <td>8</td>\n",
       "      <td>3</td>\n",
       "      <td>-4</td>\n",
       "      <td>-581</td>\n",
       "      <td>244.020</td>\n",
       "      <td>-2568.020</td>\n",
       "      <td>e-Shop</td>\n",
       "      <td>Electronics</td>\n",
       "      <td>Personal Appliances</td>\n",
       "      <td>269014</td>\n",
       "      <td>1979-11-27</td>\n",
       "      <td>F</td>\n",
       "      <td>3.0</td>\n",
       "    </tr>\n",
       "  </tbody>\n",
       "</table>\n",
       "</div>"
      ],
      "text/plain": [
       "   transaction_id  cust_id  tran_date  prod_subcat_code  prod_cat_code  Qty  \\\n",
       "0     80712190438   270351 2014-02-28                 1              1   -5   \n",
       "1     29258453508   270384 2014-02-27                 5              3   -5   \n",
       "2     51750724947   273420 2014-02-24                 6              5   -2   \n",
       "3     93274880719   271509 2014-02-24                11              6   -3   \n",
       "4     51750724947   273420 2014-02-23                 6              5   -2   \n",
       "5     97439039119   272357 2014-02-23                 8              3   -2   \n",
       "6     45649838090   273667 2014-02-22                11              6   -1   \n",
       "7     22643667930   271489 2014-02-22                12              6   -1   \n",
       "8     79792372943   275108 2014-02-22                 3              1   -3   \n",
       "9     50076728598   269014 2014-02-21                 8              3   -4   \n",
       "\n",
       "   Rate      Tax  total_amt Store_type          prod_cat          prod_subcat  \\\n",
       "0  -772  405.300  -4265.300     e-Shop          Clothing                Women   \n",
       "1 -1497  785.925  -8270.925     e-Shop       Electronics            Computers   \n",
       "2  -791  166.110  -1748.110   TeleShop             Books                  DIY   \n",
       "3 -1363  429.345  -4518.345     e-Shop  Home and kitchen                 Bath   \n",
       "4  -791  166.110  -1748.110   TeleShop             Books                  DIY   \n",
       "5  -824  173.040  -1821.040   TeleShop       Electronics  Personal Appliances   \n",
       "6 -1450  152.250  -1602.250     e-Shop  Home and kitchen                 Bath   \n",
       "7 -1225  128.625  -1353.625   TeleShop  Home and kitchen                Tools   \n",
       "8  -908  286.020  -3010.020        MBR          Clothing                 Kids   \n",
       "9  -581  244.020  -2568.020     e-Shop       Electronics  Personal Appliances   \n",
       "\n",
       "   customer_Id        DOB Gender  city_code  \n",
       "0       270351 1981-09-26      M        5.0  \n",
       "1       270384 1973-05-11      F        8.0  \n",
       "2       273420 1992-07-27      M        8.0  \n",
       "3       271509 1981-06-08      M        3.0  \n",
       "4       273420 1992-07-27      M        8.0  \n",
       "5       272357 1982-10-09      F        6.0  \n",
       "6       273667 1981-05-29      M        9.0  \n",
       "7       271489 1971-04-21      M        9.0  \n",
       "8       275108 1971-11-04      F        8.0  \n",
       "9       269014 1979-11-27      F        3.0  "
      ]
     },
     "execution_count": 30,
     "metadata": {},
     "output_type": "execute_result"
    }
   ],
   "source": [
    "customer_final.head(10)"
   ]
  },
  {
   "cell_type": "code",
   "execution_count": 31,
   "id": "d3e321a1",
   "metadata": {},
   "outputs": [
    {
     "data": {
      "text/html": [
       "<div>\n",
       "<style scoped>\n",
       "    .dataframe tbody tr th:only-of-type {\n",
       "        vertical-align: middle;\n",
       "    }\n",
       "\n",
       "    .dataframe tbody tr th {\n",
       "        vertical-align: top;\n",
       "    }\n",
       "\n",
       "    .dataframe thead th {\n",
       "        text-align: right;\n",
       "    }\n",
       "</style>\n",
       "<table border=\"1\" class=\"dataframe\">\n",
       "  <thead>\n",
       "    <tr style=\"text-align: right;\">\n",
       "      <th></th>\n",
       "      <th>transaction_id</th>\n",
       "      <th>cust_id</th>\n",
       "      <th>tran_date</th>\n",
       "      <th>prod_subcat_code</th>\n",
       "      <th>prod_cat_code</th>\n",
       "      <th>Qty</th>\n",
       "      <th>Rate</th>\n",
       "      <th>Tax</th>\n",
       "      <th>total_amt</th>\n",
       "      <th>Store_type</th>\n",
       "      <th>prod_cat</th>\n",
       "      <th>prod_subcat</th>\n",
       "      <th>customer_Id</th>\n",
       "      <th>DOB</th>\n",
       "      <th>Gender</th>\n",
       "      <th>city_code</th>\n",
       "    </tr>\n",
       "  </thead>\n",
       "  <tbody>\n",
       "    <tr>\n",
       "      <th>23043</th>\n",
       "      <td>49882891062</td>\n",
       "      <td>271982</td>\n",
       "      <td>2011-01-25</td>\n",
       "      <td>10</td>\n",
       "      <td>5</td>\n",
       "      <td>4</td>\n",
       "      <td>1330</td>\n",
       "      <td>558.600</td>\n",
       "      <td>5878.600</td>\n",
       "      <td>e-Shop</td>\n",
       "      <td>Books</td>\n",
       "      <td>Non-Fiction</td>\n",
       "      <td>271982</td>\n",
       "      <td>1976-08-10</td>\n",
       "      <td>M</td>\n",
       "      <td>8.0</td>\n",
       "    </tr>\n",
       "    <tr>\n",
       "      <th>23044</th>\n",
       "      <td>14787475597</td>\n",
       "      <td>273982</td>\n",
       "      <td>2011-01-25</td>\n",
       "      <td>4</td>\n",
       "      <td>3</td>\n",
       "      <td>5</td>\n",
       "      <td>969</td>\n",
       "      <td>508.725</td>\n",
       "      <td>5353.725</td>\n",
       "      <td>e-Shop</td>\n",
       "      <td>Electronics</td>\n",
       "      <td>Mobiles</td>\n",
       "      <td>273982</td>\n",
       "      <td>1991-10-12</td>\n",
       "      <td>M</td>\n",
       "      <td>4.0</td>\n",
       "    </tr>\n",
       "    <tr>\n",
       "      <th>23045</th>\n",
       "      <td>50691119572</td>\n",
       "      <td>273031</td>\n",
       "      <td>2011-01-25</td>\n",
       "      <td>6</td>\n",
       "      <td>5</td>\n",
       "      <td>1</td>\n",
       "      <td>1148</td>\n",
       "      <td>120.540</td>\n",
       "      <td>1268.540</td>\n",
       "      <td>TeleShop</td>\n",
       "      <td>Books</td>\n",
       "      <td>DIY</td>\n",
       "      <td>273031</td>\n",
       "      <td>1980-01-17</td>\n",
       "      <td>F</td>\n",
       "      <td>8.0</td>\n",
       "    </tr>\n",
       "    <tr>\n",
       "      <th>23046</th>\n",
       "      <td>40893803228</td>\n",
       "      <td>272049</td>\n",
       "      <td>2011-01-25</td>\n",
       "      <td>11</td>\n",
       "      <td>6</td>\n",
       "      <td>3</td>\n",
       "      <td>1077</td>\n",
       "      <td>339.255</td>\n",
       "      <td>3570.255</td>\n",
       "      <td>e-Shop</td>\n",
       "      <td>Home and kitchen</td>\n",
       "      <td>Bath</td>\n",
       "      <td>272049</td>\n",
       "      <td>1975-06-28</td>\n",
       "      <td>F</td>\n",
       "      <td>6.0</td>\n",
       "    </tr>\n",
       "    <tr>\n",
       "      <th>23047</th>\n",
       "      <td>30856003613</td>\n",
       "      <td>266866</td>\n",
       "      <td>2011-01-25</td>\n",
       "      <td>4</td>\n",
       "      <td>2</td>\n",
       "      <td>2</td>\n",
       "      <td>444</td>\n",
       "      <td>93.240</td>\n",
       "      <td>981.240</td>\n",
       "      <td>TeleShop</td>\n",
       "      <td>Footwear</td>\n",
       "      <td>Kids</td>\n",
       "      <td>266866</td>\n",
       "      <td>1974-04-18</td>\n",
       "      <td>M</td>\n",
       "      <td>4.0</td>\n",
       "    </tr>\n",
       "    <tr>\n",
       "      <th>23048</th>\n",
       "      <td>94340757522</td>\n",
       "      <td>274550</td>\n",
       "      <td>2011-01-25</td>\n",
       "      <td>12</td>\n",
       "      <td>5</td>\n",
       "      <td>1</td>\n",
       "      <td>1264</td>\n",
       "      <td>132.720</td>\n",
       "      <td>1396.720</td>\n",
       "      <td>e-Shop</td>\n",
       "      <td>Books</td>\n",
       "      <td>Academic</td>\n",
       "      <td>274550</td>\n",
       "      <td>1972-02-21</td>\n",
       "      <td>M</td>\n",
       "      <td>7.0</td>\n",
       "    </tr>\n",
       "    <tr>\n",
       "      <th>23049</th>\n",
       "      <td>89780862956</td>\n",
       "      <td>270022</td>\n",
       "      <td>2011-01-25</td>\n",
       "      <td>4</td>\n",
       "      <td>1</td>\n",
       "      <td>1</td>\n",
       "      <td>677</td>\n",
       "      <td>71.085</td>\n",
       "      <td>748.085</td>\n",
       "      <td>e-Shop</td>\n",
       "      <td>Clothing</td>\n",
       "      <td>Mens</td>\n",
       "      <td>270022</td>\n",
       "      <td>1984-04-27</td>\n",
       "      <td>M</td>\n",
       "      <td>9.0</td>\n",
       "    </tr>\n",
       "    <tr>\n",
       "      <th>23050</th>\n",
       "      <td>85115299378</td>\n",
       "      <td>271020</td>\n",
       "      <td>2011-01-25</td>\n",
       "      <td>2</td>\n",
       "      <td>6</td>\n",
       "      <td>4</td>\n",
       "      <td>1052</td>\n",
       "      <td>441.840</td>\n",
       "      <td>4649.840</td>\n",
       "      <td>MBR</td>\n",
       "      <td>Home and kitchen</td>\n",
       "      <td>Furnishing</td>\n",
       "      <td>271020</td>\n",
       "      <td>1976-06-20</td>\n",
       "      <td>M</td>\n",
       "      <td>8.0</td>\n",
       "    </tr>\n",
       "    <tr>\n",
       "      <th>23051</th>\n",
       "      <td>72870271171</td>\n",
       "      <td>270911</td>\n",
       "      <td>2011-01-25</td>\n",
       "      <td>11</td>\n",
       "      <td>5</td>\n",
       "      <td>3</td>\n",
       "      <td>1142</td>\n",
       "      <td>359.730</td>\n",
       "      <td>3785.730</td>\n",
       "      <td>TeleShop</td>\n",
       "      <td>Books</td>\n",
       "      <td>Children</td>\n",
       "      <td>270911</td>\n",
       "      <td>1970-05-22</td>\n",
       "      <td>M</td>\n",
       "      <td>2.0</td>\n",
       "    </tr>\n",
       "    <tr>\n",
       "      <th>23052</th>\n",
       "      <td>77960931771</td>\n",
       "      <td>271961</td>\n",
       "      <td>2011-01-25</td>\n",
       "      <td>11</td>\n",
       "      <td>5</td>\n",
       "      <td>1</td>\n",
       "      <td>447</td>\n",
       "      <td>46.935</td>\n",
       "      <td>493.935</td>\n",
       "      <td>TeleShop</td>\n",
       "      <td>Books</td>\n",
       "      <td>Children</td>\n",
       "      <td>271961</td>\n",
       "      <td>1982-01-15</td>\n",
       "      <td>M</td>\n",
       "      <td>1.0</td>\n",
       "    </tr>\n",
       "  </tbody>\n",
       "</table>\n",
       "</div>"
      ],
      "text/plain": [
       "       transaction_id  cust_id  tran_date  prod_subcat_code  prod_cat_code  \\\n",
       "23043     49882891062   271982 2011-01-25                10              5   \n",
       "23044     14787475597   273982 2011-01-25                 4              3   \n",
       "23045     50691119572   273031 2011-01-25                 6              5   \n",
       "23046     40893803228   272049 2011-01-25                11              6   \n",
       "23047     30856003613   266866 2011-01-25                 4              2   \n",
       "23048     94340757522   274550 2011-01-25                12              5   \n",
       "23049     89780862956   270022 2011-01-25                 4              1   \n",
       "23050     85115299378   271020 2011-01-25                 2              6   \n",
       "23051     72870271171   270911 2011-01-25                11              5   \n",
       "23052     77960931771   271961 2011-01-25                11              5   \n",
       "\n",
       "       Qty  Rate      Tax  total_amt Store_type          prod_cat  \\\n",
       "23043    4  1330  558.600   5878.600     e-Shop             Books   \n",
       "23044    5   969  508.725   5353.725     e-Shop       Electronics   \n",
       "23045    1  1148  120.540   1268.540   TeleShop             Books   \n",
       "23046    3  1077  339.255   3570.255     e-Shop  Home and kitchen   \n",
       "23047    2   444   93.240    981.240   TeleShop          Footwear   \n",
       "23048    1  1264  132.720   1396.720     e-Shop             Books   \n",
       "23049    1   677   71.085    748.085     e-Shop          Clothing   \n",
       "23050    4  1052  441.840   4649.840        MBR  Home and kitchen   \n",
       "23051    3  1142  359.730   3785.730   TeleShop             Books   \n",
       "23052    1   447   46.935    493.935   TeleShop             Books   \n",
       "\n",
       "       prod_subcat  customer_Id        DOB Gender  city_code  \n",
       "23043  Non-Fiction       271982 1976-08-10      M        8.0  \n",
       "23044      Mobiles       273982 1991-10-12      M        4.0  \n",
       "23045          DIY       273031 1980-01-17      F        8.0  \n",
       "23046         Bath       272049 1975-06-28      F        6.0  \n",
       "23047         Kids       266866 1974-04-18      M        4.0  \n",
       "23048     Academic       274550 1972-02-21      M        7.0  \n",
       "23049         Mens       270022 1984-04-27      M        9.0  \n",
       "23050   Furnishing       271020 1976-06-20      M        8.0  \n",
       "23051     Children       270911 1970-05-22      M        2.0  \n",
       "23052     Children       271961 1982-01-15      M        1.0  "
      ]
     },
     "execution_count": 31,
     "metadata": {},
     "output_type": "execute_result"
    }
   ],
   "source": [
    "customer_final.tail(10)"
   ]
  },
  {
   "cell_type": "markdown",
   "id": "222bb467",
   "metadata": {},
   "source": [
    "(c) : “Five-number summary” for continuous variables (min, Q1, median, Q3 and max)"
   ]
  },
  {
   "cell_type": "code",
   "execution_count": 33,
   "id": "a67c44df",
   "metadata": {},
   "outputs": [
    {
     "data": {
      "text/html": [
       "<div>\n",
       "<style scoped>\n",
       "    .dataframe tbody tr th:only-of-type {\n",
       "        vertical-align: middle;\n",
       "    }\n",
       "\n",
       "    .dataframe tbody tr th {\n",
       "        vertical-align: top;\n",
       "    }\n",
       "\n",
       "    .dataframe thead th {\n",
       "        text-align: right;\n",
       "    }\n",
       "</style>\n",
       "<table border=\"1\" class=\"dataframe\">\n",
       "  <thead>\n",
       "    <tr style=\"text-align: right;\">\n",
       "      <th></th>\n",
       "      <th>Qty</th>\n",
       "      <th>Rate</th>\n",
       "      <th>Tax</th>\n",
       "      <th>total_amt</th>\n",
       "    </tr>\n",
       "  </thead>\n",
       "  <tbody>\n",
       "    <tr>\n",
       "      <th>count</th>\n",
       "      <td>23040.000000</td>\n",
       "      <td>23040.000000</td>\n",
       "      <td>23040.000000</td>\n",
       "      <td>23040.000000</td>\n",
       "    </tr>\n",
       "    <tr>\n",
       "      <th>mean</th>\n",
       "      <td>2.435764</td>\n",
       "      <td>637.094965</td>\n",
       "      <td>248.677488</td>\n",
       "      <td>2109.865226</td>\n",
       "    </tr>\n",
       "    <tr>\n",
       "      <th>std</th>\n",
       "      <td>2.264326</td>\n",
       "      <td>621.727374</td>\n",
       "      <td>187.188311</td>\n",
       "      <td>2505.610295</td>\n",
       "    </tr>\n",
       "    <tr>\n",
       "      <th>min</th>\n",
       "      <td>-5.000000</td>\n",
       "      <td>-1499.000000</td>\n",
       "      <td>7.350000</td>\n",
       "      <td>-8270.925000</td>\n",
       "    </tr>\n",
       "    <tr>\n",
       "      <th>25%</th>\n",
       "      <td>1.000000</td>\n",
       "      <td>312.000000</td>\n",
       "      <td>98.280000</td>\n",
       "      <td>762.450000</td>\n",
       "    </tr>\n",
       "    <tr>\n",
       "      <th>50%</th>\n",
       "      <td>3.000000</td>\n",
       "      <td>710.000000</td>\n",
       "      <td>199.080000</td>\n",
       "      <td>1756.950000</td>\n",
       "    </tr>\n",
       "    <tr>\n",
       "      <th>75%</th>\n",
       "      <td>4.000000</td>\n",
       "      <td>1109.000000</td>\n",
       "      <td>365.767500</td>\n",
       "      <td>3570.255000</td>\n",
       "    </tr>\n",
       "    <tr>\n",
       "      <th>max</th>\n",
       "      <td>5.000000</td>\n",
       "      <td>1500.000000</td>\n",
       "      <td>787.500000</td>\n",
       "      <td>8287.500000</td>\n",
       "    </tr>\n",
       "  </tbody>\n",
       "</table>\n",
       "</div>"
      ],
      "text/plain": [
       "                Qty          Rate           Tax     total_amt\n",
       "count  23040.000000  23040.000000  23040.000000  23040.000000\n",
       "mean       2.435764    637.094965    248.677488   2109.865226\n",
       "std        2.264326    621.727374    187.188311   2505.610295\n",
       "min       -5.000000  -1499.000000      7.350000  -8270.925000\n",
       "25%        1.000000    312.000000     98.280000    762.450000\n",
       "50%        3.000000    710.000000    199.080000   1756.950000\n",
       "75%        4.000000   1109.000000    365.767500   3570.255000\n",
       "max        5.000000   1500.000000    787.500000   8287.500000"
      ]
     },
     "execution_count": 33,
     "metadata": {},
     "output_type": "execute_result"
    }
   ],
   "source": [
    "customer_final[['Qty', 'Rate', 'Tax','total_amt']].describe()"
   ]
  },
  {
   "cell_type": "markdown",
   "id": "0a36b696",
   "metadata": {},
   "source": [
    "(d) : Frequency tables for all the categorical variables"
   ]
  },
  {
   "cell_type": "code",
   "execution_count": 34,
   "id": "d4bd3db7",
   "metadata": {},
   "outputs": [
    {
     "data": {
      "text/html": [
       "<div>\n",
       "<style scoped>\n",
       "    .dataframe tbody tr th:only-of-type {\n",
       "        vertical-align: middle;\n",
       "    }\n",
       "\n",
       "    .dataframe tbody tr th {\n",
       "        vertical-align: top;\n",
       "    }\n",
       "\n",
       "    .dataframe thead th {\n",
       "        text-align: right;\n",
       "    }\n",
       "</style>\n",
       "<table border=\"1\" class=\"dataframe\">\n",
       "  <thead>\n",
       "    <tr style=\"text-align: right;\">\n",
       "      <th></th>\n",
       "      <th>Store_type</th>\n",
       "      <th>prod_cat</th>\n",
       "      <th>prod_subcat</th>\n",
       "      <th>Gender</th>\n",
       "    </tr>\n",
       "  </thead>\n",
       "  <tbody>\n",
       "    <tr>\n",
       "      <th>count</th>\n",
       "      <td>23040</td>\n",
       "      <td>23040</td>\n",
       "      <td>23040</td>\n",
       "      <td>23031</td>\n",
       "    </tr>\n",
       "    <tr>\n",
       "      <th>unique</th>\n",
       "      <td>4</td>\n",
       "      <td>6</td>\n",
       "      <td>18</td>\n",
       "      <td>2</td>\n",
       "    </tr>\n",
       "    <tr>\n",
       "      <th>top</th>\n",
       "      <td>e-Shop</td>\n",
       "      <td>Books</td>\n",
       "      <td>Women</td>\n",
       "      <td>M</td>\n",
       "    </tr>\n",
       "    <tr>\n",
       "      <th>freq</th>\n",
       "      <td>9304</td>\n",
       "      <td>6066</td>\n",
       "      <td>3046</td>\n",
       "      <td>11804</td>\n",
       "    </tr>\n",
       "  </tbody>\n",
       "</table>\n",
       "</div>"
      ],
      "text/plain": [
       "       Store_type prod_cat prod_subcat Gender\n",
       "count       23040    23040       23040  23031\n",
       "unique          4        6          18      2\n",
       "top        e-Shop    Books       Women      M\n",
       "freq         9304     6066        3046  11804"
      ]
     },
     "execution_count": 34,
     "metadata": {},
     "output_type": "execute_result"
    }
   ],
   "source": [
    "customer_final.loc[:,customer_final.dtypes==\"object\"].describe()"
   ]
  },
  {
   "cell_type": "markdown",
   "id": "dc81e9b1",
   "metadata": {},
   "source": [
    "# Question 3: Generate histograms for all continuous variables and frequency bars for categorical variables."
   ]
  },
  {
   "cell_type": "markdown",
   "id": "2df867fb",
   "metadata": {},
   "source": [
    "Histogram for all the continuous variables"
   ]
  },
  {
   "cell_type": "code",
   "execution_count": 48,
   "id": "799dadaf",
   "metadata": {},
   "outputs": [
    {
     "data": {
      "image/png": "[encoded data removed]",
      "text/plain": [
       "<Figure size 1440x720 with 6 Axes>"
      ]
     },
     "metadata": {
      "needs_background": "light"
     },
     "output_type": "display_data"
    }
   ],
   "source": [
    "customer_final[['Qty', 'Rate', 'Tax','total_amt','prod_subcat_code','prod_cat_code']].hist(figsize = (20,10))\n",
    "plt.show()"
   ]
  },
  {
   "cell_type": "markdown",
   "id": "24b17cbf",
   "metadata": {},
   "source": [
    "frequency bars for categorical variables."
   ]
  },
  {
   "cell_type": "code",
   "execution_count": 49,
   "id": "35eb9afc",
   "metadata": {},
   "outputs": [],
   "source": [
    "category_customer = customer_final.loc[:,customer_final.dtypes=='object']"
   ]
  },
  {
   "cell_type": "code",
   "execution_count": 50,
   "id": "22d51996",
   "metadata": {},
   "outputs": [
    {
     "data": {
      "text/html": [
       "<div>\n",
       "<style scoped>\n",
       "    .dataframe tbody tr th:only-of-type {\n",
       "        vertical-align: middle;\n",
       "    }\n",
       "\n",
       "    .dataframe tbody tr th {\n",
       "        vertical-align: top;\n",
       "    }\n",
       "\n",
       "    .dataframe thead th {\n",
       "        text-align: right;\n",
       "    }\n",
       "</style>\n",
       "<table border=\"1\" class=\"dataframe\">\n",
       "  <thead>\n",
       "    <tr style=\"text-align: right;\">\n",
       "      <th></th>\n",
       "      <th>Store_type</th>\n",
       "      <th>prod_cat</th>\n",
       "      <th>prod_subcat</th>\n",
       "      <th>Gender</th>\n",
       "    </tr>\n",
       "  </thead>\n",
       "  <tbody>\n",
       "    <tr>\n",
       "      <th>0</th>\n",
       "      <td>e-Shop</td>\n",
       "      <td>Clothing</td>\n",
       "      <td>Women</td>\n",
       "      <td>M</td>\n",
       "    </tr>\n",
       "    <tr>\n",
       "      <th>1</th>\n",
       "      <td>e-Shop</td>\n",
       "      <td>Electronics</td>\n",
       "      <td>Computers</td>\n",
       "      <td>F</td>\n",
       "    </tr>\n",
       "    <tr>\n",
       "      <th>2</th>\n",
       "      <td>TeleShop</td>\n",
       "      <td>Books</td>\n",
       "      <td>DIY</td>\n",
       "      <td>M</td>\n",
       "    </tr>\n",
       "    <tr>\n",
       "      <th>3</th>\n",
       "      <td>e-Shop</td>\n",
       "      <td>Home and kitchen</td>\n",
       "      <td>Bath</td>\n",
       "      <td>M</td>\n",
       "    </tr>\n",
       "    <tr>\n",
       "      <th>4</th>\n",
       "      <td>TeleShop</td>\n",
       "      <td>Books</td>\n",
       "      <td>DIY</td>\n",
       "      <td>M</td>\n",
       "    </tr>\n",
       "  </tbody>\n",
       "</table>\n",
       "</div>"
      ],
      "text/plain": [
       "  Store_type          prod_cat prod_subcat Gender\n",
       "0     e-Shop          Clothing       Women      M\n",
       "1     e-Shop       Electronics   Computers      F\n",
       "2   TeleShop             Books         DIY      M\n",
       "3     e-Shop  Home and kitchen        Bath      M\n",
       "4   TeleShop             Books         DIY      M"
      ]
     },
     "execution_count": 50,
     "metadata": {},
     "output_type": "execute_result"
    }
   ],
   "source": [
    "category_customer.head()"
   ]
  },
  {
   "cell_type": "code",
   "execution_count": 51,
   "id": "2cd7ea5d",
   "metadata": {},
   "outputs": [
    {
     "name": "stderr",
     "output_type": "stream",
     "text": [
      "C:\\ProgramData\\Anaconda3\\lib\\site-packages\\seaborn\\_decorators.py:36: FutureWarning: Pass the following variable as a keyword arg: x. From version 0.12, the only valid positional argument will be `data`, and passing other arguments without an explicit keyword will result in an error or misinterpretation.\n",
      "  warnings.warn(\n"
     ]
    },
    {
     "data": {
      "image/png": "[encoded data removed]",
      "text/plain": [
       "<Figure size 576x576 with 1 Axes>"
      ]
     },
     "metadata": {
      "needs_background": "light"
     },
     "output_type": "display_data"
    }
   ],
   "source": [
    "plt.figure(figsize=(8,8))\n",
    "sns.countplot(category_customer['Gender'])\n",
    "plt.show()"
   ]
  },
  {
   "cell_type": "code",
   "execution_count": 52,
   "id": "5ceefb6c",
   "metadata": {},
   "outputs": [
    {
     "name": "stderr",
     "output_type": "stream",
     "text": [
      "C:\\ProgramData\\Anaconda3\\lib\\site-packages\\seaborn\\_decorators.py:36: FutureWarning: Pass the following variable as a keyword arg: x. From version 0.12, the only valid positional argument will be `data`, and passing other arguments without an explicit keyword will result in an error or misinterpretation.\n",
      "  warnings.warn(\n"
     ]
    },
    {
     "data": {
      "image/png": "[encoded data removed]",
      "text/plain": [
       "<Figure size 576x576 with 1 Axes>"
      ]
     },
     "metadata": {
      "needs_background": "light"
     },
     "output_type": "display_data"
    }
   ],
   "source": [
    "plt.figure(figsize=(8,8))\n",
    "sns.countplot(category_customer['Store_type'])\n",
    "plt.xlabel('Store Type')\n",
    "plt.show()"
   ]
  },
  {
   "cell_type": "code",
   "execution_count": 53,
   "id": "7d015642",
   "metadata": {},
   "outputs": [
    {
     "name": "stderr",
     "output_type": "stream",
     "text": [
      "C:\\ProgramData\\Anaconda3\\lib\\site-packages\\seaborn\\_decorators.py:36: FutureWarning: Pass the following variable as a keyword arg: x. From version 0.12, the only valid positional argument will be `data`, and passing other arguments without an explicit keyword will result in an error or misinterpretation.\n",
      "  warnings.warn(\n"
     ]
    },
    {
     "data": {
      "image/png": "[encoded data removed]",
      "text/plain": [
       "<Figure size 576x576 with 1 Axes>"
      ]
     },
     "metadata": {
      "needs_background": "light"
     },
     "output_type": "display_data"
    }
   ],
   "source": [
    "plt.figure(figsize=(8,8))\n",
    "sns.countplot(category_customer['prod_cat'])\n",
    "plt.xlabel('Product Category')\n",
    "plt.show()"
   ]
  },
  {
   "cell_type": "code",
   "execution_count": 54,
   "id": "111b746c",
   "metadata": {},
   "outputs": [
    {
     "data": {
      "image/png": "[encoded data removed]",
      "text/plain": [
       "<Figure size 576x576 with 1 Axes>"
      ]
     },
     "metadata": {
      "needs_background": "light"
     },
     "output_type": "display_data"
    }
   ],
   "source": [
    "plt.figure(figsize=(8,8))\n",
    "category_customer.groupby('prod_subcat')['prod_subcat'].count().plot(kind='barh')\n",
    "plt.xlabel('Count')\n",
    "plt.ylabel('Product Subcategory')\n",
    "plt.show()"
   ]
  },
  {
   "cell_type": "markdown",
   "id": "7c9cf1a9",
   "metadata": {},
   "source": [
    "# Question 4"
   ]
  },
  {
   "cell_type": "markdown",
   "id": "e1e9edf6",
   "metadata": {},
   "source": [
    "(a) : Time period of the available transaction data"
   ]
  },
  {
   "cell_type": "code",
   "execution_count": 55,
   "id": "5dfb8918",
   "metadata": {},
   "outputs": [
    {
     "data": {
      "text/plain": [
       "(Timestamp('2011-01-02 00:00:00'), Timestamp('2014-12-02 00:00:00'))"
      ]
     },
     "execution_count": 55,
     "metadata": {},
     "output_type": "execute_result"
    }
   ],
   "source": [
    "customer_final['tran_date'].min(),customer_final['tran_date'].max()"
   ]
  },
  {
   "cell_type": "code",
   "execution_count": 59,
   "id": "ccee7d10",
   "metadata": {},
   "outputs": [
    {
     "data": {
      "text/plain": [
       "3"
      ]
     },
     "execution_count": 59,
     "metadata": {},
     "output_type": "execute_result"
    }
   ],
   "source": [
    "customer_final['tran_date'].max().year-customer_final['tran_date'].min().year"
   ]
  },
  {
   "cell_type": "markdown",
   "id": "e9dcfe35",
   "metadata": {},
   "source": [
    "(b) : Count of transactions where the total amount of transaction was negative"
   ]
  },
  {
   "cell_type": "code",
   "execution_count": 60,
   "id": "b95e611e",
   "metadata": {},
   "outputs": [
    {
     "data": {
      "text/plain": [
       "2164"
      ]
     },
     "execution_count": 60,
     "metadata": {},
     "output_type": "execute_result"
    }
   ],
   "source": [
    "negative_transaction = customer_final.loc[customer_final[\"total_amt\"] < 0,\"transaction_id\"].count()\n",
    "negative_transaction"
   ]
  },
  {
   "cell_type": "markdown",
   "id": "634787e9",
   "metadata": {},
   "source": [
    "# Question 5: Analyze which product categories are more popular among females vs male customers."
   ]
  },
  {
   "cell_type": "code",
   "execution_count": 79,
   "id": "bf7c5de0",
   "metadata": {},
   "outputs": [
    {
     "data": {
      "text/html": [
       "<div>\n",
       "<style scoped>\n",
       "    .dataframe tbody tr th:only-of-type {\n",
       "        vertical-align: middle;\n",
       "    }\n",
       "\n",
       "    .dataframe tbody tr th {\n",
       "        vertical-align: top;\n",
       "    }\n",
       "\n",
       "    .dataframe thead th {\n",
       "        text-align: right;\n",
       "    }\n",
       "</style>\n",
       "<table border=\"1\" class=\"dataframe\">\n",
       "  <thead>\n",
       "    <tr style=\"text-align: right;\">\n",
       "      <th>prod_cat</th>\n",
       "      <th>Bags</th>\n",
       "      <th>Books</th>\n",
       "      <th>Clothing</th>\n",
       "      <th>Electronics</th>\n",
       "      <th>Footwear</th>\n",
       "      <th>Home and kitchen</th>\n",
       "    </tr>\n",
       "    <tr>\n",
       "      <th>Gender</th>\n",
       "      <th></th>\n",
       "      <th></th>\n",
       "      <th></th>\n",
       "      <th></th>\n",
       "      <th></th>\n",
       "      <th></th>\n",
       "    </tr>\n",
       "  </thead>\n",
       "  <tbody>\n",
       "    <tr>\n",
       "      <th>F</th>\n",
       "      <td>2364</td>\n",
       "      <td>7080</td>\n",
       "      <td>3425</td>\n",
       "      <td>5832</td>\n",
       "      <td>3721</td>\n",
       "      <td>4898</td>\n",
       "    </tr>\n",
       "    <tr>\n",
       "      <th>M</th>\n",
       "      <td>2346</td>\n",
       "      <td>7587</td>\n",
       "      <td>3748</td>\n",
       "      <td>6486</td>\n",
       "      <td>3561</td>\n",
       "      <td>5051</td>\n",
       "    </tr>\n",
       "  </tbody>\n",
       "</table>\n",
       "</div>"
      ],
      "text/plain": [
       "prod_cat  Bags  Books  Clothing  Electronics  Footwear  Home and kitchen\n",
       "Gender                                                                  \n",
       "F         2364   7080      3425         5832      3721              4898\n",
       "M         2346   7587      3748         6486      3561              5051"
      ]
     },
     "execution_count": 79,
     "metadata": {},
     "output_type": "execute_result"
    }
   ],
   "source": [
    "product_gender.pivot(index=\"Gender\",columns=\"prod_cat\",values=\"Qty\")"
   ]
  },
  {
   "cell_type": "markdown",
   "id": "7163e417",
   "metadata": {},
   "source": [
    "Products that are popular among males are:\n",
    "\n",
    "<br>Books\n",
    "<br>Clothing\n",
    "<br>Electronics\n",
    "<br>Home and kitchen\n",
    "\n",
    "<br>Products that are popular among females are:\n",
    "\n",
    "<br>Bags\n",
    "<br>Footwear"
   ]
  },
  {
   "cell_type": "markdown",
   "id": "cc9ebc6b",
   "metadata": {},
   "source": [
    "# Question 6 : Which City code has the maximum customers and what was the percentage of customers from that city?"
   ]
  },
  {
   "cell_type": "code",
   "execution_count": 81,
   "id": "fa1b48ed",
   "metadata": {},
   "outputs": [
    {
     "data": {
      "text/plain": [
       "city_code\n",
       "4.0     2422\n",
       "3.0     2410\n",
       "5.0     2357\n",
       "7.0     2356\n",
       "10.0    2333\n",
       "8.0     2328\n",
       "2.0     2268\n",
       "1.0     2255\n",
       "9.0     2176\n",
       "6.0     2127\n",
       "Name: customer_Id, dtype: int64"
      ]
     },
     "execution_count": 81,
     "metadata": {},
     "output_type": "execute_result"
    }
   ],
   "source": [
    "customer_group = customer_final.groupby('city_code')['customer_Id'].count().sort_values(ascending =False)\n",
    "customer_group"
   ]
  },
  {
   "cell_type": "code",
   "execution_count": 82,
   "id": "e31b4e4c",
   "metadata": {},
   "outputs": [
    {
     "data": {
      "image/png": "[encoded data removed]",
      "text/plain": [
       "<Figure size 576x360 with 1 Axes>"
      ]
     },
     "metadata": {
      "needs_background": "light"
     },
     "output_type": "display_data"
    }
   ],
   "source": [
    "plt.figure(figsize=(8,5))\n",
    "customer_group.plot(kind=\"bar\")\n",
    "plt.xlabel(\"City Code\")\n",
    "plt.ylabel(\"No. of customers\")\n",
    "plt.yticks(np.arange(0, 3500, step=500))\n",
    "plt.show()"
   ]
  },
  {
   "cell_type": "code",
   "execution_count": 83,
   "id": "1e1a6100",
   "metadata": {},
   "outputs": [
    {
     "data": {
      "text/plain": [
       "10.52"
      ]
     },
     "execution_count": 83,
     "metadata": {},
     "output_type": "execute_result"
    }
   ],
   "source": [
    "percentage = round((customer_group[4.0] / customer_group.sum()) * 100,2)\n",
    "percentage"
   ]
  },
  {
   "cell_type": "markdown",
   "id": "e81b75ab",
   "metadata": {},
   "source": [
    "City code 4.0 has the maximum customers and the percentage of customers from that city is  10.52"
   ]
  },
  {
   "cell_type": "markdown",
   "id": "54cc77b5",
   "metadata": {},
   "source": [
    "# 7.Which store type sells the maximum products by value and by quantity?"
   ]
  },
  {
   "cell_type": "code",
   "execution_count": 84,
   "id": "1c46d333",
   "metadata": {},
   "outputs": [
    {
     "name": "stderr",
     "output_type": "stream",
     "text": [
      "C:\\Users\\Mdhar\\AppData\\Local\\Temp/ipykernel_16496/2464577125.py:1: FutureWarning: Indexing with multiple keys (implicitly converted to a tuple of keys) will be deprecated, use a list instead.\n",
      "  customer_final.groupby(\"Store_type\")[\"Qty\",\"Rate\"].sum().sort_values(by=\"Qty\",ascending=False)\n"
     ]
    },
    {
     "data": {
      "text/html": [
       "<div>\n",
       "<style scoped>\n",
       "    .dataframe tbody tr th:only-of-type {\n",
       "        vertical-align: middle;\n",
       "    }\n",
       "\n",
       "    .dataframe tbody tr th {\n",
       "        vertical-align: top;\n",
       "    }\n",
       "\n",
       "    .dataframe thead th {\n",
       "        text-align: right;\n",
       "    }\n",
       "</style>\n",
       "<table border=\"1\" class=\"dataframe\">\n",
       "  <thead>\n",
       "    <tr style=\"text-align: right;\">\n",
       "      <th></th>\n",
       "      <th>Qty</th>\n",
       "      <th>Rate</th>\n",
       "    </tr>\n",
       "    <tr>\n",
       "      <th>Store_type</th>\n",
       "      <th></th>\n",
       "      <th></th>\n",
       "    </tr>\n",
       "  </thead>\n",
       "  <tbody>\n",
       "    <tr>\n",
       "      <th>e-Shop</th>\n",
       "      <td>22790</td>\n",
       "      <td>5945770</td>\n",
       "    </tr>\n",
       "    <tr>\n",
       "      <th>MBR</th>\n",
       "      <td>11195</td>\n",
       "      <td>2953665</td>\n",
       "    </tr>\n",
       "    <tr>\n",
       "      <th>Flagship store</th>\n",
       "      <td>11142</td>\n",
       "      <td>2942874</td>\n",
       "    </tr>\n",
       "    <tr>\n",
       "      <th>TeleShop</th>\n",
       "      <td>10993</td>\n",
       "      <td>2836359</td>\n",
       "    </tr>\n",
       "  </tbody>\n",
       "</table>\n",
       "</div>"
      ],
      "text/plain": [
       "                  Qty     Rate\n",
       "Store_type                    \n",
       "e-Shop          22790  5945770\n",
       "MBR             11195  2953665\n",
       "Flagship store  11142  2942874\n",
       "TeleShop        10993  2836359"
      ]
     },
     "execution_count": 84,
     "metadata": {},
     "output_type": "execute_result"
    }
   ],
   "source": [
    "customer_final.groupby(\"Store_type\")[\"Qty\",\"Rate\"].sum().sort_values(by=\"Qty\",ascending=False)"
   ]
  },
  {
   "cell_type": "markdown",
   "id": "6e449872",
   "metadata": {},
   "source": [
    "e-Shop store sell the maximum products by value and by quantity"
   ]
  },
  {
   "cell_type": "markdown",
   "id": "4afaaa95",
   "metadata": {},
   "source": [
    "# (8) What was the total amount earned from the \"Electronics\" and \"Clothing\" categories from Flagship Stores?"
   ]
  },
  {
   "cell_type": "code",
   "execution_count": 86,
   "id": "27c202c9",
   "metadata": {},
   "outputs": [
    {
     "data": {
      "text/html": [
       "<div>\n",
       "<style scoped>\n",
       "    .dataframe tbody tr th:only-of-type {\n",
       "        vertical-align: middle;\n",
       "    }\n",
       "\n",
       "    .dataframe tbody tr th {\n",
       "        vertical-align: top;\n",
       "    }\n",
       "\n",
       "    .dataframe thead th {\n",
       "        text-align: right;\n",
       "    }\n",
       "</style>\n",
       "<table border=\"1\" class=\"dataframe\">\n",
       "  <thead>\n",
       "    <tr style=\"text-align: right;\">\n",
       "      <th>Store_type</th>\n",
       "      <th>Flagship store</th>\n",
       "      <th>MBR</th>\n",
       "      <th>TeleShop</th>\n",
       "      <th>e-Shop</th>\n",
       "    </tr>\n",
       "    <tr>\n",
       "      <th>prod_cat</th>\n",
       "      <th></th>\n",
       "      <th></th>\n",
       "      <th></th>\n",
       "      <th></th>\n",
       "    </tr>\n",
       "  </thead>\n",
       "  <tbody>\n",
       "    <tr>\n",
       "      <th>Bags</th>\n",
       "      <td>870548.84</td>\n",
       "      <td>848678.68</td>\n",
       "      <td>789181.06</td>\n",
       "      <td>1617933.26</td>\n",
       "    </tr>\n",
       "    <tr>\n",
       "      <th>Books</th>\n",
       "      <td>2493677.81</td>\n",
       "      <td>2496039.19</td>\n",
       "      <td>2545714.47</td>\n",
       "      <td>5297161.16</td>\n",
       "    </tr>\n",
       "    <tr>\n",
       "      <th>Clothing</th>\n",
       "      <td>1194423.23</td>\n",
       "      <td>1287686.34</td>\n",
       "      <td>1241834.36</td>\n",
       "      <td>2527193.56</td>\n",
       "    </tr>\n",
       "    <tr>\n",
       "      <th>Electronics</th>\n",
       "      <td>2215136.04</td>\n",
       "      <td>2107969.83</td>\n",
       "      <td>1978457.20</td>\n",
       "      <td>4429142.77</td>\n",
       "    </tr>\n",
       "    <tr>\n",
       "      <th>Footwear</th>\n",
       "      <td>1234806.56</td>\n",
       "      <td>1112163.72</td>\n",
       "      <td>1235719.29</td>\n",
       "      <td>2643215.25</td>\n",
       "    </tr>\n",
       "    <tr>\n",
       "      <th>Home and kitchen</th>\n",
       "      <td>1713004.15</td>\n",
       "      <td>1822403.57</td>\n",
       "      <td>1581227.38</td>\n",
       "      <td>3327977.12</td>\n",
       "    </tr>\n",
       "  </tbody>\n",
       "</table>\n",
       "</div>"
      ],
      "text/plain": [
       "Store_type        Flagship store         MBR    TeleShop      e-Shop\n",
       "prod_cat                                                            \n",
       "Bags                   870548.84   848678.68   789181.06  1617933.26\n",
       "Books                 2493677.81  2496039.19  2545714.47  5297161.16\n",
       "Clothing              1194423.23  1287686.34  1241834.36  2527193.56\n",
       "Electronics           2215136.04  2107969.83  1978457.20  4429142.77\n",
       "Footwear              1234806.56  1112163.72  1235719.29  2643215.25\n",
       "Home and kitchen      1713004.15  1822403.57  1581227.38  3327977.12"
      ]
     },
     "execution_count": 86,
     "metadata": {},
     "output_type": "execute_result"
    }
   ],
   "source": [
    "store_group = round(customer_final.pivot_table(index = \"prod_cat\",columns=\"Store_type\", values=\"total_amt\", aggfunc='sum'),2)\n",
    "store_group"
   ]
  },
  {
   "cell_type": "code",
   "execution_count": 89,
   "id": "e4e6a862",
   "metadata": {},
   "outputs": [
    {
     "data": {
      "text/plain": [
       "3409559.27"
      ]
     },
     "execution_count": 89,
     "metadata": {},
     "output_type": "execute_result"
    }
   ],
   "source": [
    "store_group.loc[[\"Clothing\",\"Electronics\"],\"Flagship store\"].sum()"
   ]
  },
  {
   "cell_type": "markdown",
   "id": "d88d8134",
   "metadata": {},
   "source": [
    "# (9) What was the total amount earned from \"Male\" customers under the \"Electronics\" category?"
   ]
  },
  {
   "cell_type": "code",
   "execution_count": 94,
   "id": "96fab6c6",
   "metadata": {},
   "outputs": [
    {
     "data": {
      "text/plain": [
       "5711351.62"
      ]
     },
     "execution_count": 94,
     "metadata": {},
     "output_type": "execute_result"
    }
   ],
   "source": [
    "male_customer=customer_final.loc[(customer_final[\"Gender\"]=='M') & (customer_final[\"prod_cat\"] =='Electronics' ), \"total_amt\"].sum()\n",
    "male_customer"
   ]
  },
  {
   "cell_type": "markdown",
   "id": "0e578b04",
   "metadata": {},
   "source": [
    "# (10) How many customers have more than 10 unique transactions, after removing all transactions which have any negative amounts?"
   ]
  },
  {
   "cell_type": "code",
   "execution_count": 97,
   "id": "cd1f1574",
   "metadata": {},
   "outputs": [],
   "source": [
    "positive_amt = customer_final[customer_final[\"total_amt\"]>= 0 ]\n"
   ]
  },
  {
   "cell_type": "code",
   "execution_count": 104,
   "id": "437d4c15",
   "metadata": {},
   "outputs": [
    {
     "name": "stdout",
     "output_type": "stream",
     "text": [
      "10 unique transactions details\n",
      "      customer_Id  transaction_id\n",
      "4          266794              11\n",
      "2426       270535              11\n",
      "2606       270803              11\n",
      "3867       272741              11\n",
      "4032       273014              11\n",
      "4815       274227              11\n",
      "number of 10 unique transactions\n"
     ]
    },
    {
     "data": {
      "text/plain": [
       "6"
      ]
     },
     "execution_count": 104,
     "metadata": {},
     "output_type": "execute_result"
    }
   ],
   "source": [
    "unique_10_tr1 = positive_amt.groupby('customer_Id').transaction_id.count().reset_index()\n",
    "print(\"10 unique transactions details\")\n",
    "unique_10_tr2 = unique_10_tr1[unique_10_tr1[\"transaction_id\"]>10]\n",
    "print(unique_10_tr2)\n",
    "\n",
    "\n",
    "print(\"number of 10 unique transactions\")\n",
    "unique_10_tr2['transaction_id'].count()"
   ]
  },
  {
   "cell_type": "markdown",
   "id": "568c539d",
   "metadata": {},
   "source": [
    "# Question 11"
   ]
  },
  {
   "cell_type": "markdown",
   "id": "feea53a9",
   "metadata": {},
   "source": [
    "(a) : For all customers aged between 25 - 35, find out: What was the total amount spent for “Electronics” and “Books” product categories?"
   ]
  },
  {
   "cell_type": "code",
   "execution_count": 108,
   "id": "3079da57",
   "metadata": {},
   "outputs": [],
   "source": [
    "from datetime import datetime, date"
   ]
  },
  {
   "cell_type": "code",
   "execution_count": 115,
   "id": "48615677",
   "metadata": {},
   "outputs": [],
   "source": [
    "customer_final[\"Age\"] =datetime.now().year-customer_final[\"DOB\"].dt.year"
   ]
  },
  {
   "cell_type": "code",
   "execution_count": 117,
   "id": "11b78595",
   "metadata": {},
   "outputs": [
    {
     "data": {
      "text/html": [
       "<div>\n",
       "<style scoped>\n",
       "    .dataframe tbody tr th:only-of-type {\n",
       "        vertical-align: middle;\n",
       "    }\n",
       "\n",
       "    .dataframe tbody tr th {\n",
       "        vertical-align: top;\n",
       "    }\n",
       "\n",
       "    .dataframe thead th {\n",
       "        text-align: right;\n",
       "    }\n",
       "</style>\n",
       "<table border=\"1\" class=\"dataframe\">\n",
       "  <thead>\n",
       "    <tr style=\"text-align: right;\">\n",
       "      <th></th>\n",
       "      <th>prod_cat</th>\n",
       "      <th>total_amt</th>\n",
       "    </tr>\n",
       "  </thead>\n",
       "  <tbody>\n",
       "    <tr>\n",
       "      <th>0</th>\n",
       "      <td>Books</td>\n",
       "      <td>3174082.665</td>\n",
       "    </tr>\n",
       "    <tr>\n",
       "      <th>1</th>\n",
       "      <td>Electronics</td>\n",
       "      <td>2884375.975</td>\n",
       "    </tr>\n",
       "  </tbody>\n",
       "</table>\n",
       "</div>"
      ],
      "text/plain": [
       "      prod_cat    total_amt\n",
       "0        Books  3174082.665\n",
       "1  Electronics  2884375.975"
      ]
     },
     "execution_count": 117,
     "metadata": {},
     "output_type": "execute_result"
    }
   ],
   "source": [
    "data_set = customer_final.loc[customer_final.prod_cat.isin([\"Electronics\", \"Books\"]), [\"prod_cat\", \"total_amt\", \"Age\"]]\n",
    "\n",
    "data_set.loc[data_set.Age.isin(np.arange(25,36,1)), :].groupby(\"prod_cat\").total_amt.sum().reset_index()"
   ]
  },
  {
   "cell_type": "markdown",
   "id": "08dbceda",
   "metadata": {},
   "source": [
    "# (b): What was the total amount spent by these customers between 1st Jan, 2014 to 1st Mar, 2014?"
   ]
  },
  {
   "cell_type": "code",
   "execution_count": 125,
   "id": "c46465d4",
   "metadata": {},
   "outputs": [
    {
     "data": {
      "text/plain": [
       "12942572.18"
      ]
     },
     "execution_count": 125,
     "metadata": {},
     "output_type": "execute_result"
    }
   ],
   "source": [
    "start = customer_final['tran_date'].min()\n",
    "end =  customer_final['tran_date'].max()\n",
    "\n",
    "data = customer_final.loc[(customer_final.tran_date > start) & (customer_final.tran_date < end), [\"Age\", \"tran_date\", \"total_amt\"]]\n",
    "round(data.loc[data.Age.isin(np.arange(25,36,1)), \"total_amt\"].sum(),2)"
   ]
  },
  {
   "cell_type": "code",
   "execution_count": null,
   "id": "deaf13da",
   "metadata": {},
   "outputs": [],
   "source": []
  }
 ],
 "metadata": {
  "celltoolbar": "Raw Cell Format",
  "kernelspec": {
   "display_name": "Python 3 (ipykernel)",
   "language": "python",
   "name": "python3"
  },
  "language_info": {
   "codemirror_mode": {
    "name": "ipython",
    "version": 3
   },
   "file_extension": ".py",
   "mimetype": "text/x-python",
   "name": "python",
   "nbconvert_exporter": "python",
   "pygments_lexer": "ipython3",
   "version": "3.9.7"
  }
 },
 "nbformat": 4,
 "nbformat_minor": 5
}
